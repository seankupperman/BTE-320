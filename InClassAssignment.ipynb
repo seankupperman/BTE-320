{
  "nbformat": 4,
  "nbformat_minor": 0,
  "metadata": {
    "colab": {
      "provenance": [],
      "authorship_tag": "ABX9TyMNUjBYJADm7lcYXlKf/okj",
      "include_colab_link": true
    },
    "kernelspec": {
      "name": "python3",
      "display_name": "Python 3"
    },
    "language_info": {
      "name": "python"
    }
  },
  "cells": [
    {
      "cell_type": "markdown",
      "metadata": {
        "id": "view-in-github",
        "colab_type": "text"
      },
      "source": [
        "<a href=\"https://colab.research.google.com/github/seankupperman/BTE-320/blob/main/InClassAssignment.ipynb\" target=\"_parent\"><img src=\"https://colab.research.google.com/assets/colab-badge.svg\" alt=\"Open In Colab\"/></a>"
      ]
    },
    {
      "cell_type": "code",
      "execution_count": null,
      "metadata": {
        "colab": {
          "base_uri": "https://localhost:8080/"
        },
        "id": "8Pj6axJL2ztb",
        "outputId": "f3b6a949-8cde-4f3d-fcae-9e2705a27fe2"
      },
      "outputs": [
        {
          "output_type": "stream",
          "name": "stdout",
          "text": [
            "Please enter radius: 5\n",
            "Please enter height: 5\n",
            "Area of Cylinder: 314.0 sq. ft\n"
          ]
        },
        {
          "output_type": "execute_result",
          "data": {
            "text/plain": [
              "float"
            ]
          },
          "metadata": {},
          "execution_count": 1
        }
      ],
      "source": [
        "Radius = float(input(\"Please enter radius: \"))\n",
        "Height = float(input(\"Please enter height: \"))\n",
        "pi = 3.14\n",
        "area = ( 2 * pi * Radius **2) + (2 * pi * Radius * Height)\n",
        "print(\"Area of Cylinder:\", area, \"sq. ft\")\n",
        "type(area)"
      ]
    },
    {
      "cell_type": "code",
      "source": [
        "n1 = float(input(\"Please enter number 1: \"))\n",
        "n2 = float(input(\"Please enter number 2: \"))\n",
        "op = input(\"Please enter the operation: \")\n",
        "\n",
        "if op == \"+\":\n",
        "  print(n1 + n2)\n",
        "elif op == \"-\":\n",
        "  print(n1 - n2)\n",
        "elif op == \"*\":\n",
        "  print(n1 * n2)\n",
        "elif op == \"/\":\n",
        "  print(n1 / n2)\n",
        "elif op == \"//\":\n",
        "  print(n1 // n2)\n",
        "elif op == \"**\":\n",
        "  print(n1 ** n2)\n",
        "elif op == \"%\":\n",
        "  print(n1 % n2)\n",
        "else:\n",
        "  print(\"Invalid operation\")"
      ],
      "metadata": {
        "colab": {
          "base_uri": "https://localhost:8080/"
        },
        "id": "B0sp5efs6NOO",
        "outputId": "a8cb67e2-0239-49c2-8dc7-d7ff6ea2ecfa"
      },
      "execution_count": null,
      "outputs": [
        {
          "output_type": "stream",
          "name": "stdout",
          "text": [
            "Please enter number 1: 1\n",
            "Please enter number 2: 1\n",
            "Please enter the operation: +\n",
            "2.0\n"
          ]
        }
      ]
    },
    {
      "cell_type": "code",
      "source": [
        "for numberHours in range(1, 9):\n",
        "  fee = 5 + 2.5 * numberHours\n",
        "  if fee < 10:\n",
        "    fee = 10\n",
        "  elif fee > 20:\n",
        "    fee = 20\n",
        "  print(numberHours, fee)"
      ],
      "metadata": {
        "colab": {
          "base_uri": "https://localhost:8080/"
        },
        "id": "mhT6ASudpOwI",
        "outputId": "6c124ff7-5a89-44db-a904-e6e37b32fbdc"
      },
      "execution_count": null,
      "outputs": [
        {
          "output_type": "stream",
          "name": "stdout",
          "text": [
            "1 10\n",
            "2 10.0\n",
            "3 12.5\n",
            "4 15.0\n",
            "5 17.5\n",
            "6 20.0\n",
            "7 20\n",
            "8 20\n"
          ]
        }
      ]
    },
    {
      "cell_type": "code",
      "source": [
        "import math\n",
        "\n",
        "print('ad$\\t', 'Profit')\n",
        "for adMoney in range(0, 201, 25):\n",
        "  revenue = (20 + 2 * round(math.sqrt(adMoney))) * 10\n",
        "  cost = 200 + adMoney\n",
        "  profit = revenue - cost\n",
        "  print(adMoney, \"\\t\", profit)"
      ],
      "metadata": {
        "colab": {
          "base_uri": "https://localhost:8080/"
        },
        "id": "xyGWX5gGq9AE",
        "outputId": "93d04f04-7056-4448-a37b-c2c331b725c8"
      },
      "execution_count": null,
      "outputs": [
        {
          "output_type": "stream",
          "name": "stdout",
          "text": [
            "ad$\t Profit\n",
            "0 \t 0\n",
            "25 \t 75\n",
            "50 \t 90\n",
            "75 \t 105\n",
            "100 \t 100\n",
            "125 \t 95\n",
            "150 \t 90\n",
            "175 \t 85\n",
            "200 \t 80\n"
          ]
        }
      ]
    },
    {
      "cell_type": "code",
      "source": [
        "play = (input(\"Would you like to play the game(Yes or No): \"))\n",
        "while play == \"Yes\" or play == \"yes\":\n",
        "  print(\"Let's Play!\")\n",
        "  PlayerOne = input(\"Player One, Please enter Rock, Paper or Scissors: \")\n",
        "  PlayerTwo = input(\"Player Two, Please enter Rock, Paper or Scissors: \")\n",
        "  if PlayerOne == PlayerTwo:\n",
        "    print(\"Tie!\")\n",
        "  elif PlayerOne == \"Rock\" and PlayerTwo == \"Scissors\":\n",
        "    print(\"Player One Wins!\")\n",
        "  elif PlayerOne == \"Paper\" and PlayerTwo == \"Rock\":\n",
        "    print(\"Player One Wins!\")\n",
        "  elif PlayerOne == \"Scissors\" and PlayerTwo == \"Paper\":\n",
        "    print(\"Player One Wins!\")\n",
        "  else:\n",
        "    print(\"Player Two Wins!\")\n",
        "\n",
        "  play = input(\"Would you like to play again(Yes or No): \")\n",
        "print('Have a good day!')"
      ],
      "metadata": {
        "id": "k-wgLsUN-SNt",
        "colab": {
          "base_uri": "https://localhost:8080/"
        },
        "outputId": "24698f40-29ef-465c-fb09-0c6d948a1f6a"
      },
      "execution_count": null,
      "outputs": [
        {
          "name": "stdout",
          "output_type": "stream",
          "text": [
            "Would you like to play the game(Yes or No): yes\n",
            "Let's Play!\n",
            "Player One, Please enter Rock, Paper or Scissors: rock\n"
          ]
        }
      ]
    },
    {
      "cell_type": "code",
      "source": [
        "lst = []\n",
        "\n",
        "num = float(input(\"Please enter a number: \"))\n",
        "\n",
        "while num != 0.0:\n",
        "  lst.append(num)\n",
        "  num = float(input(\"Please enter a number: \"))\n",
        "lst.sort(reverse=True)\n",
        "lst"
      ],
      "metadata": {
        "colab": {
          "base_uri": "https://localhost:8080/"
        },
        "id": "Uq4VepEAdJLY",
        "outputId": "88e8d30d-87a2-4a82-cb8e-afc3badc4569"
      },
      "execution_count": null,
      "outputs": [
        {
          "name": "stdout",
          "output_type": "stream",
          "text": [
            "Please enter a number: 5.674\n",
            "Please enter a number: 4.670\n",
            "Please enter a number: 3.4225\n",
            "Please enter a number: 2545.5\n",
            "Please enter a number: 2346.56543\n",
            "Please enter a number: 46745.5656\n",
            "Please enter a number: 0\n"
          ]
        },
        {
          "output_type": "execute_result",
          "data": {
            "text/plain": [
              "[46745.5656, 2545.5, 2346.56543, 5.674, 4.67, 3.4225]"
            ]
          },
          "metadata": {},
          "execution_count": 20
        }
      ]
    },
    {
      "cell_type": "code",
      "source": [
        "months = {}\n",
        "\n",
        "names = [\"Jan\", \"Feb\", \"Mar\", \"Apr\", \"May\", \"Jun\", \"Jul\", \"Aug\", \"Sep\", \"Oct\", \"Nov\", \"Dec\"]\n",
        "numbers = [1, 2, 3, 4, 5, 6, 7, 8, 9, 10, 11, 12]\n",
        "\n",
        "for idx in range(len(names)):\n",
        "  months[numbers[idx]] = names[idx]\n",
        "months"
      ],
      "metadata": {
        "colab": {
          "base_uri": "https://localhost:8080/"
        },
        "id": "VLkpHu2DNVqr",
        "outputId": "77a2cba4-a250-4271-d648-4ebf42fe8b98"
      },
      "execution_count": null,
      "outputs": [
        {
          "output_type": "execute_result",
          "data": {
            "text/plain": [
              "{1: 'Jan',\n",
              " 2: 'Feb',\n",
              " 3: 'Mar',\n",
              " 4: 'Apr',\n",
              " 5: 'May',\n",
              " 6: 'Jun',\n",
              " 7: 'Jul',\n",
              " 8: 'Aug',\n",
              " 9: 'Sep',\n",
              " 10: 'Oct',\n",
              " 11: 'Nov',\n",
              " 12: 'Dec'}"
            ]
          },
          "metadata": {},
          "execution_count": 1
        }
      ]
    },
    {
      "cell_type": "code",
      "source": [
        "counts = {}\n",
        "\n",
        "while len(counts) < 5:\n",
        "  key = input(\"Please enter value: \")\n",
        "\n",
        "if key not in counts:\n",
        "  counts[key] = 1\n",
        "else:\n",
        "  counts[key] += 1\n",
        "counts"
      ],
      "metadata": {
        "id": "V88jUgTpN0JH",
        "colab": {
          "base_uri": "https://localhost:8080/"
        },
        "outputId": "f95cf382-b31d-4bb7-c1dd-82a5e9fd18b2"
      },
      "execution_count": null,
      "outputs": [
        {
          "name": "stdout",
          "output_type": "stream",
          "text": [
            "Please enter value: 1\n",
            "Please enter value: 2\n",
            "Please enter value: 3\n",
            "Please enter value: 4\n",
            "Please enter value: 5\n",
            "Please enter value: 3\n",
            "Please enter value: 4\n"
          ]
        }
      ]
    },
    {
      "cell_type": "code",
      "source": [
        "def calcFee(hours):\n",
        "  fee = 5 + 2.5 * hours\n",
        "  if fee < 10.0:\n",
        "    fee = 10.0\n",
        "  elif fee >= 20.0:\n",
        "    fee = 20.0\n",
        "  print(f'Fee: ${fee}')\n",
        "\n",
        "def main():\n",
        "  numHours = int(input('Enter number of hours: '))\n",
        "  calcFee(numHours)\n",
        "\n",
        "if __name__ == '__main__':\n",
        "  main()"
      ],
      "metadata": {
        "colab": {
          "base_uri": "https://localhost:8080/"
        },
        "id": "mDrJhO6f1BKz",
        "outputId": "c04496e6-7692-4143-fa9a-af247a207ca1"
      },
      "execution_count": null,
      "outputs": [
        {
          "output_type": "stream",
          "name": "stdout",
          "text": [
            "Enter number of hours: 3\n",
            "Fee: $12.5\n"
          ]
        }
      ]
    },
    {
      "cell_type": "code",
      "source": [
        "def reverse(s):\n",
        "  if len(s) <= 1:\n",
        "    return s\n",
        "  else:\n",
        "    return reverse(s[1:]) + s[0]\n",
        "reverse('Hello')"
      ],
      "metadata": {
        "id": "guBVzRtGb6QL",
        "colab": {
          "base_uri": "https://localhost:8080/",
          "height": 35
        },
        "outputId": "8ff3cc31-6d82-4155-8687-b52c47f23d7b"
      },
      "execution_count": null,
      "outputs": [
        {
          "output_type": "execute_result",
          "data": {
            "text/plain": [
              "'olleH'"
            ],
            "application/vnd.google.colaboratory.intrinsic+json": {
              "type": "string"
            }
          },
          "metadata": {},
          "execution_count": 7
        }
      ]
    },
    {
      "cell_type": "code",
      "source": [
        "def calcFee(hours):\n",
        "  fee = 5 + 2.5 * hours\n",
        "  if fee < 10.0:\n",
        "    fee = 10.0\n",
        "  elif fee >= 20.0:\n",
        "    fee = 20.0\n",
        "  print(f'Fee: ${fee}')\n",
        "\n",
        "def main():\n",
        "  try:\n",
        "    numHours = int(input('Enter number of hours: '))\n",
        "    calcFee(numHours)\n",
        "  except ValueError:\n",
        "    print('Cannot be casted as int()')\n",
        "\n",
        "if __name__ == '__main__':\n",
        "  main()"
      ],
      "metadata": {
        "colab": {
          "base_uri": "https://localhost:8080/"
        },
        "id": "UsxWKBY1gm_1",
        "outputId": "edf9fcea-23e9-44f4-8bc8-18e1f11ba805"
      },
      "execution_count": null,
      "outputs": [
        {
          "output_type": "stream",
          "name": "stdout",
          "text": [
            "Enter number of hours: 5.2\n",
            "Cannot be casted as int()\n"
          ]
        }
      ]
    },
    {
      "cell_type": "code",
      "source": [
        "class Greeting:\n",
        "  def __init__(self, first, last):\n",
        "    self.first = first\n",
        "    self.last = last\n",
        "\n",
        "  def display(self, formal = False):\n",
        "    if formal:\n",
        "      print(f'Hello {self.first} {self.last}')\n",
        "    else:\n",
        "      print(f'Hi {self.first}')\n",
        "\n",
        "  def __str__(self):\n",
        "    return str(self.first) + \", \" + str(self.last)\n",
        "\n",
        "greeting = Greeting('Donald', 'Becker')\n",
        "greeting.display(formal = True)\n",
        "print(greeting)"
      ],
      "metadata": {
        "colab": {
          "base_uri": "https://localhost:8080/"
        },
        "id": "Hyge-M1bm1e3",
        "outputId": "0e120bee-554f-45c4-9c5a-5df12c598220"
      },
      "execution_count": null,
      "outputs": [
        {
          "output_type": "stream",
          "name": "stdout",
          "text": [
            "Hello Donald Becker\n",
            "Donald, Becker\n"
          ]
        }
      ]
    },
    {
      "cell_type": "code",
      "source": [
        "class Student:\n",
        "  def __init__(self, name, number):\n",
        "    self.name = name\n",
        "    self.number = number\n",
        "    self.courses = []\n",
        "\n",
        "  def enroll(self, course):\n",
        "    if course not in self.courses:\n",
        "      self.courses.append(course)\n",
        "    else:\n",
        "        print(f'You have already enrolled in {course}')\n",
        "\n",
        "  def get_courses(self):\n",
        "    return self.courses\n",
        "\n",
        "s1 = Student('Bob', 100)\n",
        "s2 = Student('Alice', 101)\n",
        "s1.name, s2.name"
      ],
      "metadata": {
        "colab": {
          "base_uri": "https://localhost:8080/"
        },
        "id": "EkE7kxQrH6EG",
        "outputId": "cdec5067-a8c1-4c58-85c4-970750d27227"
      },
      "execution_count": null,
      "outputs": [
        {
          "output_type": "execute_result",
          "data": {
            "text/plain": [
              "('Bob', 'Alice')"
            ]
          },
          "metadata": {},
          "execution_count": 12
        }
      ]
    },
    {
      "cell_type": "code",
      "source": [
        "s1.enroll('BTE320')"
      ],
      "metadata": {
        "id": "ie3waLIvPmOe"
      },
      "execution_count": null,
      "outputs": []
    },
    {
      "cell_type": "code",
      "source": [
        "s1.enroll('BTE422')"
      ],
      "metadata": {
        "id": "k7wbXYsrPuED"
      },
      "execution_count": null,
      "outputs": []
    },
    {
      "cell_type": "code",
      "source": [
        "s1.get_courses()"
      ],
      "metadata": {
        "colab": {
          "base_uri": "https://localhost:8080/"
        },
        "id": "ZFpvJ8bXQBFY",
        "outputId": "969f7af2-3620-4e17-856f-1d3d37cce340"
      },
      "execution_count": null,
      "outputs": [
        {
          "output_type": "execute_result",
          "data": {
            "text/plain": [
              "['BTE320', 'BTE422']"
            ]
          },
          "metadata": {},
          "execution_count": 16
        }
      ]
    },
    {
      "cell_type": "code",
      "source": [
        "import math\n",
        "\n",
        "class Point:\n",
        "  def __init__(self, x, y):\n",
        "    self.x = x\n",
        "    self.y = y\n",
        "\n",
        "  def distance(self, other):\n",
        "    dx = (self.x - other.x) ** 2\n",
        "    dy = (self.y - other.y) ** 2\n",
        "    dist = math.sqrt(dx + dy)\n",
        "    return dist\n",
        "\n",
        "p1 = Point(1, 7)\n",
        "p2 = Point(4, 3)\n",
        "p1.distance(p2)"
      ],
      "metadata": {
        "id": "tG_yTOAQsvUT",
        "colab": {
          "base_uri": "https://localhost:8080/"
        },
        "outputId": "bc4005a4-6e42-4b03-ed8c-3cd458f664af"
      },
      "execution_count": null,
      "outputs": [
        {
          "output_type": "execute_result",
          "data": {
            "text/plain": [
              "5.0"
            ]
          },
          "metadata": {},
          "execution_count": 1
        }
      ]
    },
    {
      "cell_type": "code",
      "source": [
        "class Rectangle:\n",
        "  def __init__(self):\n",
        "    self.c1 = Point(0, 0)\n",
        "    self.c2 = Point(0, 2)\n",
        "    self.c3 = Point(2, 0)\n",
        "    self.c4 = Point(0, 2)\n",
        "    self.width = self.calculate_width()\n",
        "    self.length = self.calculate_length()\n",
        "\n",
        "  def calculate_width(self):\n",
        "    return self.c1.distance (self.c3)\n",
        "\n",
        "  def calculate_length(self):\n",
        "    return self.c1.distance (self.c2)\n",
        "\n",
        "  def area(self):\n",
        "    return f'Area = {self.width * self.length} sq ft.'\n",
        "\n",
        "\n",
        "square = Rectangle()\n",
        "square.area()"
      ],
      "metadata": {
        "id": "CAhYVbf6uh3v",
        "colab": {
          "base_uri": "https://localhost:8080/",
          "height": 35
        },
        "outputId": "8addb692-eb63-4d77-b475-3cc17ba47fd2"
      },
      "execution_count": null,
      "outputs": [
        {
          "output_type": "execute_result",
          "data": {
            "text/plain": [
              "'Area = 4.0 sq ft.'"
            ],
            "application/vnd.google.colaboratory.intrinsic+json": {
              "type": "string"
            }
          },
          "metadata": {},
          "execution_count": 2
        }
      ]
    }
  ]
}