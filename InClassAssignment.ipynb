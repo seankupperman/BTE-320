{
  "nbformat": 4,
  "nbformat_minor": 0,
  "metadata": {
    "colab": {
      "provenance": [],
      "authorship_tag": "ABX9TyPpNfCwJEquzELbL0DHx+8S",
      "include_colab_link": true
    },
    "kernelspec": {
      "name": "python3",
      "display_name": "Python 3"
    },
    "language_info": {
      "name": "python"
    }
  },
  "cells": [
    {
      "cell_type": "markdown",
      "metadata": {
        "id": "view-in-github",
        "colab_type": "text"
      },
      "source": [
        "<a href=\"https://colab.research.google.com/github/seankupperman/BTE-320/blob/main/InClassAssignment.ipynb\" target=\"_parent\"><img src=\"https://colab.research.google.com/assets/colab-badge.svg\" alt=\"Open In Colab\"/></a>"
      ]
    },
    {
      "cell_type": "code",
      "execution_count": null,
      "metadata": {
        "colab": {
          "base_uri": "https://localhost:8080/"
        },
        "id": "8Pj6axJL2ztb",
        "outputId": "f3b6a949-8cde-4f3d-fcae-9e2705a27fe2"
      },
      "outputs": [
        {
          "output_type": "stream",
          "name": "stdout",
          "text": [
            "Please enter radius: 5\n",
            "Please enter height: 5\n",
            "Area of Cylinder: 314.0 sq. ft\n"
          ]
        },
        {
          "output_type": "execute_result",
          "data": {
            "text/plain": [
              "float"
            ]
          },
          "metadata": {},
          "execution_count": 1
        }
      ],
      "source": [
        "Radius = float(input(\"Please enter radius: \"))\n",
        "Height = float(input(\"Please enter height: \"))\n",
        "pi = 3.14\n",
        "area = ( 2 * pi * Radius **2) + (2 * pi * Radius * Height)\n",
        "print(\"Area of Cylinder:\", area, \"sq. ft\")\n",
        "type(area)"
      ]
    },
    {
      "cell_type": "code",
      "source": [
        "n1 = float(input(\"Please enter number 1: \"))\n",
        "n2 = float(input(\"Please enter number 2: \"))\n",
        "op = input(\"Please enter the operation: \")\n",
        "\n",
        "if op == \"+\":\n",
        "  print(n1 + n2)\n",
        "elif op == \"-\":\n",
        "  print(n1 - n2)\n",
        "elif op == \"*\":\n",
        "  print(n1 * n2)\n",
        "elif op == \"/\":\n",
        "  print(n1 / n2)\n",
        "elif op == \"//\":\n",
        "  print(n1 // n2)\n",
        "elif op == \"**\":\n",
        "  print(n1 ** n2)\n",
        "elif op == \"%\":\n",
        "  print(n1 % n2)\n",
        "else:\n",
        "  print(\"Invalid operation\")"
      ],
      "metadata": {
        "colab": {
          "base_uri": "https://localhost:8080/"
        },
        "id": "B0sp5efs6NOO",
        "outputId": "a8cb67e2-0239-49c2-8dc7-d7ff6ea2ecfa"
      },
      "execution_count": 11,
      "outputs": [
        {
          "output_type": "stream",
          "name": "stdout",
          "text": [
            "Please enter number 1: 1\n",
            "Please enter number 2: 1\n",
            "Please enter the operation: +\n",
            "2.0\n"
          ]
        }
      ]
    },
    {
      "cell_type": "code",
      "source": [
        "x = 5\n",
        "if x % 2 == 0:\n",
        "  res = 'Even'\n",
        "else:\n",
        "  res = 'Odd'\n",
        "print(res)"
      ],
      "metadata": {
        "id": "z1svg2nDAD-_"
      },
      "execution_count": null,
      "outputs": []
    },
    {
      "cell_type": "code",
      "source": [
        "x = 5\n",
        "res = 'Even' if x % 2 == 0 else 'Odd'\n",
        "print(res)"
      ],
      "metadata": {
        "id": "GjVCp7B_AF8J"
      },
      "execution_count": null,
      "outputs": []
    }
  ]
}