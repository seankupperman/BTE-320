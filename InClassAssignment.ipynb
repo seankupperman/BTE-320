{
  "nbformat": 4,
  "nbformat_minor": 0,
  "metadata": {
    "colab": {
      "provenance": [],
      "authorship_tag": "ABX9TyPLxIwQbKnytZuTHfbUrthS",
      "include_colab_link": true
    },
    "kernelspec": {
      "name": "python3",
      "display_name": "Python 3"
    },
    "language_info": {
      "name": "python"
    }
  },
  "cells": [
    {
      "cell_type": "markdown",
      "metadata": {
        "id": "view-in-github",
        "colab_type": "text"
      },
      "source": [
        "<a href=\"https://colab.research.google.com/github/seankupperman/BTE-320/blob/main/InClassAssignment.ipynb\" target=\"_parent\"><img src=\"https://colab.research.google.com/assets/colab-badge.svg\" alt=\"Open In Colab\"/></a>"
      ]
    },
    {
      "cell_type": "code",
      "execution_count": null,
      "metadata": {
        "colab": {
          "base_uri": "https://localhost:8080/"
        },
        "id": "8Pj6axJL2ztb",
        "outputId": "f3b6a949-8cde-4f3d-fcae-9e2705a27fe2"
      },
      "outputs": [
        {
          "output_type": "stream",
          "name": "stdout",
          "text": [
            "Please enter radius: 5\n",
            "Please enter height: 5\n",
            "Area of Cylinder: 314.0 sq. ft\n"
          ]
        },
        {
          "output_type": "execute_result",
          "data": {
            "text/plain": [
              "float"
            ]
          },
          "metadata": {},
          "execution_count": 1
        }
      ],
      "source": [
        "Radius = float(input(\"Please enter radius: \"))\n",
        "Height = float(input(\"Please enter height: \"))\n",
        "pi = 3.14\n",
        "area = ( 2 * pi * Radius **2) + (2 * pi * Radius * Height)\n",
        "print(\"Area of Cylinder:\", area, \"sq. ft\")\n",
        "type(area)"
      ]
    },
    {
      "cell_type": "code",
      "source": [
        "n1 = float(input(\"Please enter number 1: \"))\n",
        "n2 = float(input(\"Please enter number 2: \"))\n",
        "op = input(\"Please enter the operation: \")\n",
        "\n",
        "if op == \"+\":\n",
        "  print(n1 + n2)\n",
        "elif op == \"-\":\n",
        "  print(n1 - n2)\n",
        "elif op == \"*\":\n",
        "  print(n1 * n2)\n",
        "elif op == \"/\":\n",
        "  print(n1 / n2)\n",
        "elif op == \"//\":\n",
        "  print(n1 // n2)\n",
        "elif op == \"**\":\n",
        "  print(n1 ** n2)\n",
        "elif op == \"%\":\n",
        "  print(n1 % n2)\n",
        "else:\n",
        "  print(\"Invalid operation\")"
      ],
      "metadata": {
        "colab": {
          "base_uri": "https://localhost:8080/"
        },
        "id": "B0sp5efs6NOO",
        "outputId": "a8cb67e2-0239-49c2-8dc7-d7ff6ea2ecfa"
      },
      "execution_count": null,
      "outputs": [
        {
          "output_type": "stream",
          "name": "stdout",
          "text": [
            "Please enter number 1: 1\n",
            "Please enter number 2: 1\n",
            "Please enter the operation: +\n",
            "2.0\n"
          ]
        }
      ]
    },
    {
      "cell_type": "code",
      "source": [
        "x = 5\n",
        "if x % 2 == 0:\n",
        "  res = 'Even'\n",
        "else:\n",
        "  res = 'Odd'\n",
        "print(res)"
      ],
      "metadata": {
        "id": "z1svg2nDAD-_"
      },
      "execution_count": null,
      "outputs": []
    },
    {
      "cell_type": "code",
      "source": [
        "x = 5\n",
        "res = 'Even' if x % 2 == 0 else 'Odd'\n",
        "print(res)"
      ],
      "metadata": {
        "id": "GjVCp7B_AF8J"
      },
      "execution_count": null,
      "outputs": []
    },
    {
      "cell_type": "code",
      "source": [
        "for numberHours in range(1, 9):\n",
        "  fee = 5 + 2.5 * numberHours\n",
        "  if fee < 10:\n",
        "    fee = 10\n",
        "  elif fee > 20:\n",
        "    fee = 20\n",
        "  print(numberHours, fee)"
      ],
      "metadata": {
        "colab": {
          "base_uri": "https://localhost:8080/"
        },
        "id": "mhT6ASudpOwI",
        "outputId": "6c124ff7-5a89-44db-a904-e6e37b32fbdc"
      },
      "execution_count": 13,
      "outputs": [
        {
          "output_type": "stream",
          "name": "stdout",
          "text": [
            "1 10\n",
            "2 10.0\n",
            "3 12.5\n",
            "4 15.0\n",
            "5 17.5\n",
            "6 20.0\n",
            "7 20\n",
            "8 20\n"
          ]
        }
      ]
    },
    {
      "cell_type": "code",
      "source": [
        "import math\n",
        "\n",
        "print('ad$\\t', 'Profit')\n",
        "for adMoney in range(0, 201, 25):\n",
        "  revenue = (20 + 2 * round(math.sqrt(adMoney))) * 10\n",
        "  cost = 200 + adMoney\n",
        "  profit = revenue - cost\n",
        "  print(adMoney, \"\\t\", profit)"
      ],
      "metadata": {
        "colab": {
          "base_uri": "https://localhost:8080/"
        },
        "id": "xyGWX5gGq9AE",
        "outputId": "93d04f04-7056-4448-a37b-c2c331b725c8"
      },
      "execution_count": 25,
      "outputs": [
        {
          "output_type": "stream",
          "name": "stdout",
          "text": [
            "ad$\t Profit\n",
            "0 \t 0\n",
            "25 \t 75\n",
            "50 \t 90\n",
            "75 \t 105\n",
            "100 \t 100\n",
            "125 \t 95\n",
            "150 \t 90\n",
            "175 \t 85\n",
            "200 \t 80\n"
          ]
        }
      ]
    }
  ]
}